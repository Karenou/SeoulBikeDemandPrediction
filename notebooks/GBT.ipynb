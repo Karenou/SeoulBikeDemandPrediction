{
 "cells": [
  {
   "cell_type": "code",
   "execution_count": 1,
   "id": "9d252930",
   "metadata": {},
   "outputs": [],
   "source": [
    "from pyspark.ml.feature import VectorAssembler"
   ]
  },
  {
   "cell_type": "code",
   "execution_count": 2,
   "id": "61023b1d",
   "metadata": {},
   "outputs": [],
   "source": [
    "df = spark.read.csv(\"data/preprocessed_data.csv\", header=True, sep=\",\", inferSchema=True)\n",
    "\n",
    "feature_col = [c for c in df.columns if c != \"RentedBikeCount\"]\n",
    "\n",
    "feat_assembler = VectorAssembler(inputCols=feature_col, outputCol='features')\n",
    "\n",
    "df = feat_assembler.transform(df)"
   ]
  },
  {
   "cell_type": "code",
   "execution_count": 3,
   "id": "2c3858b4",
   "metadata": {},
   "outputs": [
    {
     "name": "stdout",
     "output_type": "stream",
     "text": [
      "+---------------------------------------------------------------------------------------------+\n",
      "|features                                                                                     |\n",
      "+---------------------------------------------------------------------------------------------+\n",
      "|(24,[0,1,2,3,4,5,8,9,10,16,22],[3.0,1.9,91.0,1.4,218.0,0.5,0.9,1.0,12.0,1.0,1.0])            |\n",
      "|(24,[0,1,2,3,4,5,8,9,10,18,22],[6.0,-8.2,66.0,0.9,1718.0,-13.4,2.0,1.0,12.0,1.0,1.0])        |\n",
      "|(24,[0,1,2,3,4,5,6,8,9,10,18,22],[14.0,-0.5,44.0,1.0,1793.0,-11.2,0.71,1.7,1.0,12.0,1.0,1.0])|\n",
      "+---------------------------------------------------------------------------------------------+\n",
      "only showing top 3 rows\n",
      "\n"
     ]
    }
   ],
   "source": [
    "df.select(\"features\").show(3,False)"
   ]
  },
  {
   "cell_type": "code",
   "execution_count": 4,
   "id": "79f249a7",
   "metadata": {},
   "outputs": [
    {
     "data": {
      "text/plain": [
       "DataFrame[features: vector, RentedBikeCount: int]"
      ]
     },
     "execution_count": 4,
     "metadata": {},
     "output_type": "execute_result"
    }
   ],
   "source": [
    "data = df.select(\"features\", \"RentedBikeCount\")\n",
    "train, test = data.randomSplit([0.75, 0.25], seed=100)\n",
    "train.cache()\n",
    "test.cache()"
   ]
  },
  {
   "cell_type": "code",
   "execution_count": 5,
   "id": "52709c28",
   "metadata": {},
   "outputs": [
    {
     "name": "stdout",
     "output_type": "stream",
     "text": [
      "number of features 24\n",
      "number of training data: 6608\n",
      "number of testing data: 2152\n"
     ]
    }
   ],
   "source": [
    "print(\"number of features %d\" % len(feature_col))\n",
    "print(\"number of training data: %d\" % train.count())\n",
    "print(\"number of testing data: %d\" % test.count())"
   ]
  },
  {
   "cell_type": "code",
   "execution_count": 6,
   "id": "e54ae8c5",
   "metadata": {},
   "outputs": [],
   "source": [
    "from pyspark.ml import Pipeline\n",
    "from pyspark.ml.regression import GBTRegressor\n",
    "from pyspark.ml.feature import VectorIndexer\n",
    "from pyspark.ml.evaluation import RegressionEvaluator"
   ]
  },
  {
   "cell_type": "code",
   "execution_count": 14,
   "id": "6393fd31",
   "metadata": {},
   "outputs": [],
   "source": [
    "def evaluate(rf_model, df, mode=\"test\"):\n",
    "    pred = rf_model.transform(df)\n",
    "    evaluator = RegressionEvaluator(labelCol=\"RentedBikeCount\", predictionCol=\"prediction\", metricName=\"rmse\")\n",
    "    rmse = evaluator.evaluate(pred, {evaluator.metricName: \"rmse\"})\n",
    "    r2 = evaluator.evaluate(pred, {evaluator.metricName: \"r2\"})\n",
    "\n",
    "    print(\"Root Mean Squared Error (RMSE) on %s data = %g\" % (mode, rmse))\n",
    "    print(\"Root Mean Squared Error (R2) on %s data = %g\" % (mode, r2))\n",
    "    \n",
    "    return pred"
   ]
  },
  {
   "cell_type": "code",
   "execution_count": 8,
   "id": "9895d501",
   "metadata": {},
   "outputs": [],
   "source": [
    "params_grid_GBT = {\n",
    "    \"maxDepth\": [4,6,8,10,12,14,16],\n",
    "    \"maxBins\" : [5,25,45,65,85,105,125],\n",
    "    \"subsamplingRate\": [0.4, 0.6, 0.8, 1.0],\n",
    "    \"featureSubsetStrategy\": [\"sqrt\", \"all\", \"log2\", \"onethird\"],\n",
    "    \"minInstancesPerNode\": [1,2,3,5,10]\n",
    "}"
   ]
  },
  {
   "cell_type": "code",
   "execution_count": 10,
   "id": "a7979fd2",
   "metadata": {},
   "outputs": [],
   "source": [
    "params_GBT = {\n",
    "    \"maxDepth\": 12,\n",
    "    \"maxBins\" : 45,\n",
    "    \"subsamplingRate\": 1.0,\n",
    "    \"featureSubsetStrategy\": \"all\",\n",
    "    \"minInstancesPerNode\": 1\n",
    "}"
   ]
  },
  {
   "cell_type": "code",
   "execution_count": 12,
   "id": "11d1d960",
   "metadata": {},
   "outputs": [],
   "source": [
    "rf_GBT = GBTRegressor(\n",
    "    featuresCol=\"features\",\n",
    "    labelCol = \"RentedBikeCount\",\n",
    "    predictionCol = \"prediction\",\n",
    "    maxDepth=params_GBT[\"maxDepth\"],\n",
    "    maxBins=params_GBT[\"maxBins\"],\n",
    "    minInstancesPerNode=params_GBT[\"minInstancesPerNode\"],\n",
    "    subsamplingRate=params_GBT[\"subsamplingRate\"],\n",
    "    featureSubsetStrategy=params_GBT[\"featureSubsetStrategy\"],\n",
    "    seed=100\n",
    ")"
   ]
  },
  {
   "cell_type": "code",
   "execution_count": 15,
   "id": "1a8959da",
   "metadata": {},
   "outputs": [
    {
     "name": "stdout",
     "output_type": "stream",
     "text": [
      "{'maxDepth': 12, 'maxBins': 45, 'subsamplingRate': 1.0, 'featureSubsetStrategy': 'all', 'minInstancesPerNode': 1}\n",
      "Root Mean Squared Error (RMSE) on train data = 24.9557\n",
      "Root Mean Squared Error (R2) on train data = 0.99851\n",
      "Root Mean Squared Error (RMSE) on test data = 229.352\n",
      "Root Mean Squared Error (R2) on test data = 0.871694\n",
      "\n"
     ]
    }
   ],
   "source": [
    "model = rf_GBT.fit(train)\n",
    "print(params_GBT)\n",
    "evaluate(model, train, mode=\"train\")\n",
    "evaluate(model, test, mode=\"test\")\n",
    "print()"
   ]
  },
  {
   "cell_type": "code",
   "execution_count": 16,
   "id": "ff6d257d",
   "metadata": {},
   "outputs": [],
   "source": [
    "feat_imp_arr = model.featureImportances.toArray()\n",
    "feat_imp = [(feat, round(imp, 4)) for feat, imp in zip(feature_col, feat_imp_arr)]\n",
    "feat_imp.sort(key=lambda x: x[1], reverse=True)"
   ]
  },
  {
   "cell_type": "code",
   "execution_count": 17,
   "id": "b84592ba",
   "metadata": {},
   "outputs": [
    {
     "name": "stdout",
     "output_type": "stream",
     "text": [
      "feature importances\n"
     ]
    },
    {
     "data": {
      "text/plain": [
       "[('Temperaturee', 0.254),\n",
       " ('Hour', 0.2459),\n",
       " ('SolarRadiation', 0.095),\n",
       " ('Humidity_pct', 0.0947),\n",
       " ('FunctioningDay', 0.0623),\n",
       " ('WindSpeed_m_per_s', 0.0428),\n",
       " ('DewPointTemperature', 0.0401),\n",
       " ('Weekend', 0.0305),\n",
       " ('Visibility_10m', 0.0282),\n",
       " ('Month', 0.0264),\n",
       " ('Autumn', 0.0186),\n",
       " ('Rainfall_mm', 0.0122),\n",
       " ('has_holiday', 0.009),\n",
       " ('Wednesday', 0.007),\n",
       " ('Spring', 0.006),\n",
       " ('Monday', 0.0056),\n",
       " ('Thursday', 0.0044),\n",
       " ('Friday', 0.0039),\n",
       " ('Tuesday', 0.0039),\n",
       " ('Sunday', 0.0036),\n",
       " ('Saturday', 0.0027),\n",
       " ('Summer', 0.0024),\n",
       " ('Snowfall_cm', 0.0007),\n",
       " ('Winter', 0.0002)]"
      ]
     },
     "execution_count": 17,
     "metadata": {},
     "output_type": "execute_result"
    }
   ],
   "source": [
    "print(\"feature importances\")\n",
    "feat_imp"
   ]
  },
  {
   "cell_type": "code",
   "execution_count": null,
   "id": "082b6520",
   "metadata": {},
   "outputs": [],
   "source": []
  }
 ],
 "metadata": {
  "kernelspec": {
   "display_name": "Python 3",
   "language": "python",
   "name": "python3"
  },
  "language_info": {
   "codemirror_mode": {
    "name": "ipython",
    "version": 3
   },
   "file_extension": ".py",
   "mimetype": "text/x-python",
   "name": "python",
   "nbconvert_exporter": "python",
   "pygments_lexer": "ipython3",
   "version": "3.8.8"
  }
 },
 "nbformat": 4,
 "nbformat_minor": 5
}
