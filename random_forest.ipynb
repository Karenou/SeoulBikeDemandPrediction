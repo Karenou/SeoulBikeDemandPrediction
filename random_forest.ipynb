{
 "cells": [
  {
   "cell_type": "markdown",
   "id": "357a4c2f",
   "metadata": {},
   "source": [
    "#### Prepare train and test data"
   ]
  },
  {
   "cell_type": "code",
   "execution_count": 1,
   "id": "c755c73e",
   "metadata": {},
   "outputs": [],
   "source": [
    "from pyspark.ml.feature import VectorAssembler"
   ]
  },
  {
   "cell_type": "code",
   "execution_count": 2,
   "id": "775f54c5",
   "metadata": {},
   "outputs": [],
   "source": [
    "df = spark.read.csv(\"data/preprocessed_data.csv\", header=True, sep=\",\", inferSchema=True)\n",
    "\n",
    "feature_col = [c for c in df.columns if c != \"RentedBikeCount\"]\n",
    "\n",
    "feat_assembler = VectorAssembler(inputCols=feature_col, outputCol='features')\n",
    "\n",
    "df = feat_assembler.transform(df)"
   ]
  },
  {
   "cell_type": "code",
   "execution_count": 28,
   "id": "dd5485da",
   "metadata": {},
   "outputs": [
    {
     "name": "stdout",
     "output_type": "stream",
     "text": [
      "+---------------------------------------------------------------------------------------------+\n",
      "|features                                                                                     |\n",
      "+---------------------------------------------------------------------------------------------+\n",
      "|(24,[0,1,2,3,4,5,8,9,10,16,22],[3.0,1.9,91.0,1.4,218.0,0.5,0.9,1.0,12.0,1.0,1.0])            |\n",
      "|(24,[0,1,2,3,4,5,8,9,10,18,22],[6.0,-8.2,66.0,0.9,1718.0,-13.4,2.0,1.0,12.0,1.0,1.0])        |\n",
      "|(24,[0,1,2,3,4,5,6,8,9,10,18,22],[14.0,-0.5,44.0,1.0,1793.0,-11.2,0.71,1.7,1.0,12.0,1.0,1.0])|\n",
      "+---------------------------------------------------------------------------------------------+\n",
      "only showing top 3 rows\n",
      "\n"
     ]
    }
   ],
   "source": [
    "df.select(\"features\").show(3,False)"
   ]
  },
  {
   "cell_type": "code",
   "execution_count": 39,
   "id": "6556acf2",
   "metadata": {},
   "outputs": [
    {
     "data": {
      "text/plain": [
       "DataFrame[features: vector, RentedBikeCount: int]"
      ]
     },
     "execution_count": 39,
     "metadata": {},
     "output_type": "execute_result"
    }
   ],
   "source": [
    "data = df.select(\"features\", \"RentedBikeCount\")\n",
    "train, test = data.randomSplit([0.75, 0.25], seed=100)\n",
    "train.cache()\n",
    "test.cache()"
   ]
  },
  {
   "cell_type": "code",
   "execution_count": 40,
   "id": "10d68f31",
   "metadata": {},
   "outputs": [
    {
     "name": "stdout",
     "output_type": "stream",
     "text": [
      "number of features 24\n",
      "number of training data: 6608\n",
      "number of testing data: 2152\n"
     ]
    }
   ],
   "source": [
    "print(\"number of features %d\" % len(feature_col))\n",
    "print(\"number of training data: %d\" % train.count())\n",
    "print(\"number of testing data: %d\" % test.count())"
   ]
  },
  {
   "cell_type": "markdown",
   "id": "2d9f69b7",
   "metadata": {},
   "source": [
    "#### Random Forest"
   ]
  },
  {
   "cell_type": "code",
   "execution_count": 41,
   "id": "5f7aa4ab",
   "metadata": {},
   "outputs": [],
   "source": [
    "from pyspark.ml.regression import RandomForestRegressor\n",
    "from pyspark.ml.evaluation import RegressionEvaluator"
   ]
  },
  {
   "cell_type": "code",
   "execution_count": 42,
   "id": "aebaf8d7",
   "metadata": {},
   "outputs": [],
   "source": [
    "def evaluate(rf_model, df, mode=\"test\"):\n",
    "    pred = rf_model.transform(df)\n",
    "    evaluator = RegressionEvaluator(labelCol=\"RentedBikeCount\", predictionCol=\"prediction\", metricName=\"rmse\")\n",
    "    rmse = evaluator.evaluate(pred, {evaluator.metricName: \"rmse\"})\n",
    "    r2 = evaluator.evaluate(pred, {evaluator.metricName: \"r2\"})\n",
    "\n",
    "    print(\"Root Mean Squared Error (RMSE) on %s data = %g\" % (mode, rmse))\n",
    "    print(\"Root Mean Squared Error (R2) on %s data = %g\" % (mode, r2))\n",
    "    \n",
    "    return pred"
   ]
  },
  {
   "cell_type": "markdown",
   "id": "650190dc",
   "metadata": {},
   "source": [
    "#### param tuning\n",
    "- numTrees: [80,100,110,120,130], when numTree=120, train RMSE: 217.25, R2:0.8865, test RMSE: 248.91, R2: 0.8513\n",
    "- maxDepth: [4,6,8,10,12,14,16], when maxDepth=16, train RMSE: 106, R2:0.9727, test RMSE: 200, R2: 0.9038\n",
    "    - but when maxDepth exceeds 12, the improvement in RMSE adn R2 in testset is very slow while the training time increases significantly. so might choose maxDepth=12\n",
    "- subsamplingRate: [0.4,0.6,0.8,1.0]. Use 1.0 gives better performance\n",
    "- featureSubsetStrategy: [\"sqrt\",\"all\",\"log2\",\"onethird\"]. Use all features gives the best performance. train RMSE: 116, R2:0.0.9674, test RMSE: 176, R2: 0.9251\n",
    "- minInstancesPerNode: [1,2,3,5,10]. Performance decreases slightly when minInstancesPerNode increases. So keep using 1"
   ]
  },
  {
   "cell_type": "code",
   "execution_count": 33,
   "id": "569aeb79",
   "metadata": {},
   "outputs": [],
   "source": [
    "params_grid = {\n",
    "    \"numTrees\": [80,100,110,120,130],\n",
    "    \"maxDepth\": [4,6,8,10,12,14,16],\n",
    "    \"subsamplingRate\": [0.4, 0.6, 0.8, 1.0],\n",
    "    \"featureSubsetStrategy\": [\"sqrt\", \"all\", \"log2\", \"onethird\"],\n",
    "    \"minInstancesPerNode\": [1,2,3,5,10]\n",
    "}"
   ]
  },
  {
   "cell_type": "code",
   "execution_count": 50,
   "id": "a3fa8a28",
   "metadata": {},
   "outputs": [],
   "source": [
    "params = {\n",
    "    \"numTrees\": 120,\n",
    "    \"maxDepth\": 12,\n",
    "    \"subsamplingRate\": 1.0,\n",
    "    \"featureSubsetStrategy\": \"all\",\n",
    "    \"minInstancesPerNode\": 1\n",
    "}"
   ]
  },
  {
   "cell_type": "code",
   "execution_count": 51,
   "id": "07821bfd",
   "metadata": {},
   "outputs": [
    {
     "name": "stdout",
     "output_type": "stream",
     "text": [
      "{'numTrees': 120, 'maxDepth': 12, 'subsamplingRate': 1.0, 'featureSubsetStrategy': 'all', 'minInstancesPerNode': 1}\n",
      "Root Mean Squared Error (RMSE) on train data = 111.468\n",
      "Root Mean Squared Error (R2) on train data = 0.970266\n",
      "Root Mean Squared Error (RMSE) on test data = 191.417\n",
      "Root Mean Squared Error (R2) on test data = 0.910627\n",
      "\n"
     ]
    }
   ],
   "source": [
    "rf = RandomForestRegressor(\n",
    "    featuresCol=\"features\",\n",
    "    labelCol = \"RentedBikeCount\",\n",
    "    predictionCol = \"prediction\",\n",
    "    numTrees=params[\"numTrees\"],\n",
    "    maxDepth=params[\"maxDepth\"],\n",
    "    minInstancesPerNode=params[\"minInstancesPerNode\"],\n",
    "    subsamplingRate=params[\"subsamplingRate\"],\n",
    "    featureSubsetStrategy=params[\"featureSubsetStrategy\"],\n",
    "    seed=100\n",
    ")\n",
    "\n",
    "model = rf.fit(train)\n",
    "print(params)\n",
    "evaluate(model, train, mode=\"train\")\n",
    "evaluate(model, test, mode=\"test\")\n",
    "print()"
   ]
  },
  {
   "cell_type": "markdown",
   "id": "9f503a99",
   "metadata": {},
   "source": [
    "#### Feature importance"
   ]
  },
  {
   "cell_type": "code",
   "execution_count": 37,
   "id": "40ef2036",
   "metadata": {},
   "outputs": [],
   "source": [
    "feat_imp_arr = model.featureImportances.toArray()\n",
    "feat_imp = [(feat, round(imp, 4)) for feat, imp in zip(feature_col, feat_imp_arr)]\n",
    "feat_imp.sort(key=lambda x: x[1], reverse=True)"
   ]
  },
  {
   "cell_type": "code",
   "execution_count": 38,
   "id": "3409bfb7",
   "metadata": {},
   "outputs": [
    {
     "name": "stdout",
     "output_type": "stream",
     "text": [
      "feature importances\n"
     ]
    },
    {
     "data": {
      "text/plain": [
       "[('Hour', 0.3005),\n",
       " ('Temperaturee', 0.286),\n",
       " ('FunctioningDay', 0.0912),\n",
       " ('SolarRadiation', 0.078),\n",
       " ('Humidity_pct', 0.0724),\n",
       " ('Rainfall_mm', 0.0416),\n",
       " ('Weekend', 0.0307),\n",
       " ('Winter', 0.0203),\n",
       " ('DewPointTemperature', 0.0196),\n",
       " ('Month', 0.0191),\n",
       " ('Autumn', 0.0143),\n",
       " ('WindSpeed_m_per_s', 0.0056),\n",
       " ('Visibility_10m', 0.0052),\n",
       " ('has_holiday', 0.0045),\n",
       " ('Spring', 0.0031),\n",
       " ('Monday', 0.0013),\n",
       " ('Sunday', 0.0012),\n",
       " ('Wednesday', 0.0012),\n",
       " ('Saturday', 0.001),\n",
       " ('Friday', 0.0007),\n",
       " ('Thursday', 0.0007),\n",
       " ('Summer', 0.0007),\n",
       " ('Snowfall_cm', 0.0005),\n",
       " ('Tuesday', 0.0004)]"
      ]
     },
     "execution_count": 38,
     "metadata": {},
     "output_type": "execute_result"
    }
   ],
   "source": [
    "print(\"feature importances\")\n",
    "feat_imp"
   ]
  },
  {
   "cell_type": "code",
   "execution_count": null,
   "id": "73c97f7d",
   "metadata": {},
   "outputs": [],
   "source": []
  }
 ],
 "metadata": {
  "kernelspec": {
   "display_name": "Python 3",
   "language": "python",
   "name": "python3"
  },
  "language_info": {
   "codemirror_mode": {
    "name": "ipython",
    "version": 3
   },
   "file_extension": ".py",
   "mimetype": "text/x-python",
   "name": "python",
   "nbconvert_exporter": "python",
   "pygments_lexer": "ipython3",
   "version": "3.8.8"
  }
 },
 "nbformat": 4,
 "nbformat_minor": 5
}
