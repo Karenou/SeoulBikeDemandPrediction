{
 "cells": [
  {
   "cell_type": "markdown",
   "id": "357a4c2f",
   "metadata": {},
   "source": [
    "#### Prepare train and test data"
   ]
  },
  {
   "cell_type": "code",
   "execution_count": 15,
   "id": "c755c73e",
   "metadata": {},
   "outputs": [],
   "source": [
    "from pyspark.ml.feature import VectorAssembler"
   ]
  },
  {
   "cell_type": "code",
   "execution_count": 27,
   "id": "775f54c5",
   "metadata": {},
   "outputs": [],
   "source": [
    "df = spark.read.csv(\"data/preprocessed_data.csv\", header=True, sep=\",\", inferSchema=True)\n",
    "\n",
    "feature_col = [c for c in df.columns if c != \"RentedBikeCount\"]\n",
    "\n",
    "feat_assembler = VectorAssembler(inputCols=feature_col, outputCol='features')\n",
    "\n",
    "df = feat_assembler.transform(df)"
   ]
  },
  {
   "cell_type": "code",
   "execution_count": 28,
   "id": "dd5485da",
   "metadata": {},
   "outputs": [
    {
     "name": "stdout",
     "output_type": "stream",
     "text": [
      "+---------------------------------------------------------------------------------------------+\n",
      "|features                                                                                     |\n",
      "+---------------------------------------------------------------------------------------------+\n",
      "|(24,[0,1,2,3,4,5,8,9,10,16,22],[3.0,1.9,91.0,1.4,218.0,0.5,0.9,1.0,12.0,1.0,1.0])            |\n",
      "|(24,[0,1,2,3,4,5,8,9,10,18,22],[6.0,-8.2,66.0,0.9,1718.0,-13.4,2.0,1.0,12.0,1.0,1.0])        |\n",
      "|(24,[0,1,2,3,4,5,6,8,9,10,18,22],[14.0,-0.5,44.0,1.0,1793.0,-11.2,0.71,1.7,1.0,12.0,1.0,1.0])|\n",
      "+---------------------------------------------------------------------------------------------+\n",
      "only showing top 3 rows\n",
      "\n"
     ]
    }
   ],
   "source": [
    "df.select(\"features\").show(3,False)"
   ]
  },
  {
   "cell_type": "code",
   "execution_count": 29,
   "id": "6556acf2",
   "metadata": {},
   "outputs": [],
   "source": [
    "data = df.select(\"features\", \"RentedBikeCount\")\n",
    "train, test = data.randomSplit([0.75, 0.25])"
   ]
  },
  {
   "cell_type": "code",
   "execution_count": 30,
   "id": "10d68f31",
   "metadata": {},
   "outputs": [
    {
     "name": "stdout",
     "output_type": "stream",
     "text": [
      "number of features 24\n",
      "number of training data: 6550\n",
      "number of testing data: 2210\n"
     ]
    }
   ],
   "source": [
    "print(\"number of features %d\" % len(feature_col))\n",
    "print(\"number of training data: %d\" % train.count())\n",
    "print(\"number of testing data: %d\" % test.count())"
   ]
  },
  {
   "cell_type": "markdown",
   "id": "2d9f69b7",
   "metadata": {},
   "source": [
    "#### Random Forest"
   ]
  },
  {
   "cell_type": "code",
   "execution_count": 33,
   "id": "5f7aa4ab",
   "metadata": {},
   "outputs": [],
   "source": [
    "from pyspark.ml.regression import RandomForestRegressor\n",
    "from pyspark.ml.evaluation import RegressionEvaluator"
   ]
  },
  {
   "cell_type": "code",
   "execution_count": 56,
   "id": "07821bfd",
   "metadata": {},
   "outputs": [
    {
     "name": "stdout",
     "output_type": "stream",
     "text": [
      "Root Mean Squared Error (RMSE) on test data = 222.451\n",
      "Root Mean Squared Error (R2) on test data = 0.877283\n"
     ]
    }
   ],
   "source": [
    "rf = RandomForestRegressor(\n",
    "    featuresCol=\"features\",\n",
    "    labelCol = \"RentedBikeCount\",\n",
    "    predictionCol = \"prediction\",\n",
    "    numTrees=100,\n",
    "    maxDepth=10,\n",
    "    subsamplingRate=1,\n",
    "    seed=100\n",
    ")\n",
    "\n",
    "model = rf.fit(train)\n",
    "\n",
    "pred = model.transform(test)\n",
    "evaluator = RegressionEvaluator(labelCol=\"RentedBikeCount\", predictionCol=\"prediction\", metricName=\"rmse\")\n",
    "rmse = evaluator.evaluate(pred, {evaluator.metricName: \"rmse\"})\n",
    "r2 = evaluator.evaluate(pred, {evaluator.metricName: \"r2\"})\n",
    "\n",
    "print(\"Root Mean Squared Error (RMSE) on test data = %g\" % rmse)\n",
    "print(\"Root Mean Squared Error (R2) on test data = %g\" % r2)"
   ]
  },
  {
   "cell_type": "code",
   "execution_count": 63,
   "id": "40ef2036",
   "metadata": {},
   "outputs": [],
   "source": [
    "feat_imp_arr = model.featureImportances.toArray()\n",
    "feat_imp = [(feat, round(imp, 4)) for feat, imp in zip(feature_col, feat_imp_arr)]\n",
    "feat_imp.sort(key=lambda x: x[1], reverse=True)"
   ]
  },
  {
   "cell_type": "code",
   "execution_count": 66,
   "id": "3409bfb7",
   "metadata": {},
   "outputs": [
    {
     "name": "stdout",
     "output_type": "stream",
     "text": [
      "feature importances\n"
     ]
    },
    {
     "data": {
      "text/plain": [
       "[('Hour', 0.2953),\n",
       " ('Temperaturee', 0.2041),\n",
       " ('FunctioningDay', 0.0853),\n",
       " ('Humidity_pct', 0.0793),\n",
       " ('Winter', 0.0745),\n",
       " ('SolarRadiation', 0.0607),\n",
       " ('Month', 0.0468),\n",
       " ('Rainfall_mm', 0.0417),\n",
       " ('DewPointTemperature', 0.0407),\n",
       " ('Visibility_10m', 0.0153),\n",
       " ('WindSpeed_m_per_s', 0.0116),\n",
       " ('Weekend', 0.0113),\n",
       " ('Autumn', 0.0083),\n",
       " ('Summer', 0.0069),\n",
       " ('Spring', 0.0035),\n",
       " ('Sunday', 0.0034),\n",
       " ('Saturday', 0.0021),\n",
       " ('has_holiday', 0.0016),\n",
       " ('Monday', 0.0015),\n",
       " ('Tuesday', 0.0014),\n",
       " ('Thursday', 0.0013),\n",
       " ('Snowfall_cm', 0.0011),\n",
       " ('Wednesday', 0.0011),\n",
       " ('Friday', 0.0009)]"
      ]
     },
     "execution_count": 66,
     "metadata": {},
     "output_type": "execute_result"
    }
   ],
   "source": [
    "print(\"feature importances\")\n",
    "feat_imp"
   ]
  },
  {
   "cell_type": "code",
   "execution_count": null,
   "id": "73c97f7d",
   "metadata": {},
   "outputs": [],
   "source": []
  }
 ],
 "metadata": {
  "kernelspec": {
   "display_name": "Python 3",
   "language": "python",
   "name": "python3"
  },
  "language_info": {
   "codemirror_mode": {
    "name": "ipython",
    "version": 3
   },
   "file_extension": ".py",
   "mimetype": "text/x-python",
   "name": "python",
   "nbconvert_exporter": "python",
   "pygments_lexer": "ipython3",
   "version": "3.8.8"
  }
 },
 "nbformat": 4,
 "nbformat_minor": 5
}
