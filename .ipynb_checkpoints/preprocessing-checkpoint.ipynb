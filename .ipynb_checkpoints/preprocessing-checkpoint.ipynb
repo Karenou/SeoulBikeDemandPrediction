{
 "cells": [
  {
   "cell_type": "code",
   "execution_count": 2,
   "id": "06c7672f",
   "metadata": {},
   "outputs": [],
   "source": [
    "from pyspark.sql import SQLContext\n",
    "from pyspark.sql import functions as func\n",
    "from pyspark.sql.types import *"
   ]
  },
  {
   "cell_type": "markdown",
   "id": "6506bdd0",
   "metadata": {},
   "source": [
    "### Read Data"
   ]
  },
  {
   "cell_type": "code",
   "execution_count": 1,
   "id": "e4a91d90",
   "metadata": {},
   "outputs": [],
   "source": [
    "spark = SQLContext(sc)\n",
    "# mysql config\n",
    "\n",
    "prop = {'user': 'root',\n",
    "        'password': 'xxx',\n",
    "        'driver': 'com.mysql.cj.jdbc.Driver'}\n",
    "\n",
    "db_name = \"big_data_5003\"\n",
    "tb_name = \"SeoulBike\"\n",
    "\n",
    "url = 'jdbc:mysql://127.0.0.1:3306/%s' % db_name"
   ]
  },
  {
   "cell_type": "code",
   "execution_count": 2,
   "id": "cca3de7b",
   "metadata": {
    "scrolled": true
   },
   "outputs": [
    {
     "data": {
      "text/plain": [
       "DataFrame[id: int, Date: string, RentedBikeCount: int, Hour: int, Temperaturee: double, Humidity_pct: int, WindSpeed_m_per_s: double, Visibility_10m: int, DewPointTemperature: double, SolarRadiation: double, Rainfall_mm: double, Snowfall_cm: double, Seasons: string, Holiday: string, FunctioningDay: string]"
      ]
     },
     "execution_count": 2,
     "metadata": {},
     "output_type": "execute_result"
    }
   ],
   "source": [
    "df = spark.read.jdbc(url=url, table=tb_name, properties=prop)\n",
    "df.cache()"
   ]
  },
  {
   "cell_type": "code",
   "execution_count": 3,
   "id": "c68e7d9d",
   "metadata": {},
   "outputs": [],
   "source": [
    "output_df = df.write.csv(\"data/SeoulBike_new.csv\", header=True, sep=\",\")"
   ]
  },
  {
   "cell_type": "code",
   "execution_count": 1,
   "id": "92a448c1",
   "metadata": {},
   "outputs": [],
   "source": [
    "df = spark.read.csv(\"data/SeoulBike_new.csv\", header=True, sep=\",\", inferSchema=True)"
   ]
  },
  {
   "cell_type": "code",
   "execution_count": 3,
   "id": "b8d375f6",
   "metadata": {},
   "outputs": [
    {
     "name": "stdout",
     "output_type": "stream",
     "text": [
      "root\n",
      " |-- id: integer (nullable = true)\n",
      " |-- Date: string (nullable = true)\n",
      " |-- RentedBikeCount: integer (nullable = true)\n",
      " |-- Hour: integer (nullable = true)\n",
      " |-- Temperaturee: double (nullable = true)\n",
      " |-- Humidity_pct: integer (nullable = true)\n",
      " |-- WindSpeed_m_per_s: double (nullable = true)\n",
      " |-- Visibility_10m: integer (nullable = true)\n",
      " |-- DewPointTemperature: double (nullable = true)\n",
      " |-- SolarRadiation: double (nullable = true)\n",
      " |-- Rainfall_mm: double (nullable = true)\n",
      " |-- Snowfall_cm: double (nullable = true)\n",
      " |-- Seasons: string (nullable = true)\n",
      " |-- Holiday: string (nullable = true)\n",
      " |-- FunctioningDay: string (nullable = true)\n",
      "\n"
     ]
    }
   ],
   "source": [
    "df.printSchema()"
   ]
  },
  {
   "cell_type": "code",
   "execution_count": 4,
   "id": "25148cb3",
   "metadata": {},
   "outputs": [
    {
     "data": {
      "text/plain": [
       "8760"
      ]
     },
     "execution_count": 4,
     "metadata": {},
     "output_type": "execute_result"
    }
   ],
   "source": [
    "df.count()"
   ]
  },
  {
   "cell_type": "code",
   "execution_count": 5,
   "id": "63fed0b0",
   "metadata": {},
   "outputs": [
    {
     "name": "stdout",
     "output_type": "stream",
     "text": [
      "+---+----------+---------------+----+------------+------------+-----------------+--------------+-------------------+--------------+-----------+-----------+-------+----------+--------------+\n",
      "|id |Date      |RentedBikeCount|Hour|Temperaturee|Humidity_pct|WindSpeed_m_per_s|Visibility_10m|DewPointTemperature|SolarRadiation|Rainfall_mm|Snowfall_cm|Seasons|Holiday   |FunctioningDay|\n",
      "+---+----------+---------------+----+------------+------------+-----------------+--------------+-------------------+--------------+-----------+-----------+-------+----------+--------------+\n",
      "|1  |01/12/2017|254            |0   |-5.2        |37          |2.2              |2000          |-17.6              |0.0           |0.0        |0.0        |Winter |No Holiday|Yes           |\n",
      "|2  |01/12/2017|204            |1   |-5.5        |38          |0.8              |2000          |-17.6              |0.0           |0.0        |0.0        |Winter |No Holiday|Yes           |\n",
      "+---+----------+---------------+----+------------+------------+-----------------+--------------+-------------------+--------------+-----------+-----------+-------+----------+--------------+\n",
      "only showing top 2 rows\n",
      "\n"
     ]
    }
   ],
   "source": [
    "df.show(2, False)"
   ]
  },
  {
   "cell_type": "markdown",
   "id": "395c432d",
   "metadata": {},
   "source": [
    "### Feature Engineering\n",
    "- time: extract month, day of week, weekday or weekend"
   ]
  },
  {
   "cell_type": "code",
   "execution_count": 5,
   "id": "2a3bf42a",
   "metadata": {},
   "outputs": [],
   "source": [
    "# convert Date from string to date format\n",
    "df = df.withColumn(\"Date\", func.to_date(\"Date\", \"dd/MM/yyyy\"))\n",
    "\n",
    "# extract the month component\n",
    "df = df.withColumn(\"Month\", func.month(\"Date\"))"
   ]
  },
  {
   "cell_type": "code",
   "execution_count": 6,
   "id": "3c07efeb",
   "metadata": {},
   "outputs": [],
   "source": [
    "# extract the weekday component\n",
    "@func.udf(StringType())\n",
    "def getWeekday(x):\n",
    "    dayofweek = [\"Sunday\", \"Monday\", \"Tuesday\", \"Wednesday\", \"Thursday\", \"Friday\", \"Saturday\"]\n",
    "    return dayofweek[int(x)-1]\n",
    "\n",
    "df = df.withColumn(\"Weekday\", func.dayofweek(\"Date\")) \\\n",
    "       .withColumn(\"Weekday\", getWeekday(\"Weekday\")) \\\n",
    "       .withColumn(\"Weekend\", \n",
    "                  func.udf(lambda x: 1 if x in [\"Saturday\", \"Sunday\"] else 0, IntegerType())(\"Weekday\"))"
   ]
  },
  {
   "cell_type": "code",
   "execution_count": 7,
   "id": "4c7ef6b8",
   "metadata": {},
   "outputs": [
    {
     "name": "stdout",
     "output_type": "stream",
     "text": [
      "+----------+----------+\n",
      "|min(Date) |max(Date) |\n",
      "+----------+----------+\n",
      "|2017-12-01|2018-11-30|\n",
      "+----------+----------+\n",
      "\n"
     ]
    }
   ],
   "source": [
    "df.select(func.min(\"Date\"), func.max(\"Date\")).show(1,False)"
   ]
  },
  {
   "cell_type": "code",
   "execution_count": 5,
   "id": "d84df499",
   "metadata": {},
   "outputs": [],
   "source": [
    "weekday = df.groupBy(\"id\") \\\n",
    "            .pivot(\"Weekday\") \\\n",
    "            .agg(func.count(\"Weekday\")) \\\n",
    "            .fillna(0)"
   ]
  },
  {
   "cell_type": "code",
   "execution_count": 6,
   "id": "37a67501",
   "metadata": {},
   "outputs": [
    {
     "name": "stdout",
     "output_type": "stream",
     "text": [
      "+----+------+------+--------+------+--------+-------+---------+\n",
      "|id  |Friday|Monday|Saturday|Sunday|Thursday|Tuesday|Wednesday|\n",
      "+----+------+------+--------+------+--------+-------+---------+\n",
      "|2122|0     |0     |0       |0     |0       |1      |0        |\n",
      "|6397|1     |0     |0       |0     |0       |0      |0        |\n",
      "+----+------+------+--------+------+--------+-------+---------+\n",
      "only showing top 2 rows\n",
      "\n"
     ]
    }
   ],
   "source": [
    "weekday.show(2,False)"
   ]
  },
  {
   "cell_type": "code",
   "execution_count": 7,
   "id": "1e536b8a",
   "metadata": {},
   "outputs": [],
   "source": [
    "df = df.join(weekday, on=\"id\", how=\"inner\")"
   ]
  },
  {
   "cell_type": "markdown",
   "id": "69ed1a83",
   "metadata": {},
   "source": [
    "- one-hot: Weekday, seasons, holiday"
   ]
  },
  {
   "cell_type": "code",
   "execution_count": 8,
   "id": "6f5dedfd",
   "metadata": {},
   "outputs": [],
   "source": [
    "seasons = df.groupBy(\"id\") \\\n",
    "            .pivot(\"Seasons\")\\\n",
    "            .agg(func.count(\"Seasons\")) \\\n",
    "            .fillna(0)\n",
    "\n",
    "holiday = df.groupBy(\"id\") \\\n",
    "            .pivot(\"Holiday\")\\\n",
    "            .agg(func.count(\"Holiday\")) \\\n",
    "            .fillna(0) \\\n",
    "            .withColumnRenamed(\"Holiday\", \"has_holiday\")\n",
    "\n",
    "df = df.join(seasons, on=\"id\", how=\"inner\") \\\n",
    "       .join(holiday.select(\"id\", \"has_holiday\"), on=\"id\", how=\"inner\")"
   ]
  },
  {
   "cell_type": "markdown",
   "id": "9c0b3e16",
   "metadata": {},
   "source": [
    "- one-hot: Functioningday"
   ]
  },
  {
   "cell_type": "code",
   "execution_count": 9,
   "id": "fe5e9dcc",
   "metadata": {},
   "outputs": [
    {
     "data": {
      "text/plain": [
       "295"
      ]
     },
     "execution_count": 9,
     "metadata": {},
     "output_type": "execute_result"
    }
   ],
   "source": [
    "df.filter(func.col(\"FunctioningDay\") == \"No\").count()"
   ]
  },
  {
   "cell_type": "code",
   "execution_count": 10,
   "id": "b21f3b4f",
   "metadata": {},
   "outputs": [],
   "source": [
    "df = df.withColumn(\"FunctioningDay\", \n",
    "                   func.udf(lambda x: 1 if x == \"Yes\" else 0, IntegerType())(\"FunctioningDay\"))"
   ]
  },
  {
   "cell_type": "code",
   "execution_count": 11,
   "id": "c07f11f0",
   "metadata": {},
   "outputs": [],
   "source": [
    "feature_col = [c for c in df.columns if c not in \n",
    "               [\"RentedBikeCount\", \"id\", \"Date\", \"Seasons\", \"Holiday\",\"Weekday\"]\n",
    "              ]"
   ]
  },
  {
   "cell_type": "code",
   "execution_count": 12,
   "id": "7fa28e8e",
   "metadata": {},
   "outputs": [
    {
     "data": {
      "text/plain": [
       "['Hour',\n",
       " 'Temperaturee',\n",
       " 'Humidity_pct',\n",
       " 'WindSpeed_m_per_s',\n",
       " 'Visibility_10m',\n",
       " 'DewPointTemperature',\n",
       " 'SolarRadiation',\n",
       " 'Rainfall_mm',\n",
       " 'Snowfall_cm',\n",
       " 'FunctioningDay',\n",
       " 'Month',\n",
       " 'Weekend',\n",
       " 'Friday',\n",
       " 'Monday',\n",
       " 'Saturday',\n",
       " 'Sunday',\n",
       " 'Thursday',\n",
       " 'Tuesday',\n",
       " 'Wednesday',\n",
       " 'Autumn',\n",
       " 'Spring',\n",
       " 'Summer',\n",
       " 'Winter',\n",
       " 'has_holiday']"
      ]
     },
     "execution_count": 12,
     "metadata": {},
     "output_type": "execute_result"
    }
   ],
   "source": [
    "feature_col"
   ]
  },
  {
   "cell_type": "code",
   "execution_count": 13,
   "id": "84c6737d",
   "metadata": {},
   "outputs": [
    {
     "data": {
      "text/plain": [
       "24"
      ]
     },
     "execution_count": 13,
     "metadata": {},
     "output_type": "execute_result"
    }
   ],
   "source": [
    "len(feature_col)"
   ]
  },
  {
   "cell_type": "code",
   "execution_count": 14,
   "id": "948ea37b",
   "metadata": {},
   "outputs": [],
   "source": [
    "data = df.select(*feature_col, \"RentedBikeCount\")"
   ]
  },
  {
   "cell_type": "code",
   "execution_count": 15,
   "id": "f71cc0cd",
   "metadata": {},
   "outputs": [
    {
     "name": "stdout",
     "output_type": "stream",
     "text": [
      "+----+------------+------------+-----------------+--------------+-------------------+--------------+-----------+-----------+--------------+-----+-------+------+------+--------+------+--------+-------+---------+------+------+------+------+-----------+---------------+\n",
      "|Hour|Temperaturee|Humidity_pct|WindSpeed_m_per_s|Visibility_10m|DewPointTemperature|SolarRadiation|Rainfall_mm|Snowfall_cm|FunctioningDay|Month|Weekend|Friday|Monday|Saturday|Sunday|Thursday|Tuesday|Wednesday|Autumn|Spring|Summer|Winter|has_holiday|RentedBikeCount|\n",
      "+----+------------+------------+-----------------+--------------+-------------------+--------------+-----------+-----------+--------------+-----+-------+------+------+--------+------+--------+-------+---------+------+------+------+------+-----------+---------------+\n",
      "|3   |1.9         |91          |1.4              |218           |0.5                |0.0           |0.0        |0.9        |1             |12   |0      |0     |0     |0       |0     |1       |0      |0        |0     |0     |0     |1     |0          |102            |\n",
      "|6   |-8.2        |66          |0.9              |1718          |-13.4              |0.0           |0.0        |2.0        |1             |12   |0      |0     |0     |0       |0     |0       |0      |1        |0     |0     |0     |1     |0          |97             |\n",
      "+----+------------+------------+-----------------+--------------+-------------------+--------------+-----------+-----------+--------------+-----+-------+------+------+--------+------+--------+-------+---------+------+------+------+------+-----------+---------------+\n",
      "only showing top 2 rows\n",
      "\n"
     ]
    }
   ],
   "source": [
    "data.show(2,False)"
   ]
  },
  {
   "cell_type": "code",
   "execution_count": 17,
   "id": "7cc249f3",
   "metadata": {},
   "outputs": [],
   "source": [
    "data.repartition(1).write.csv(\"data/preprocessed_data.csv\", header=True, sep=\",\")"
   ]
  },
  {
   "cell_type": "code",
   "execution_count": 6,
   "id": "2d21eacc",
   "metadata": {},
   "outputs": [],
   "source": []
  },
  {
   "cell_type": "code",
   "execution_count": null,
   "id": "47d569f3",
   "metadata": {},
   "outputs": [],
   "source": []
  }
 ],
 "metadata": {
  "kernelspec": {
   "display_name": "Python 3",
   "language": "python",
   "name": "python3"
  },
  "language_info": {
   "codemirror_mode": {
    "name": "ipython",
    "version": 3
   },
   "file_extension": ".py",
   "mimetype": "text/x-python",
   "name": "python",
   "nbconvert_exporter": "python",
   "pygments_lexer": "ipython3",
   "version": "3.8.8"
  }
 },
 "nbformat": 4,
 "nbformat_minor": 5
}
